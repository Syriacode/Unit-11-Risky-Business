{
 "cells": [
  {
   "cell_type": "markdown",
   "metadata": {},
   "source": [
    " # Unit 11—Risky Business"
   ]
  },
  {
   "cell_type": "markdown",
   "metadata": {},
   "source": [
    "# Resampling\n"
   ]
  },
  {
   "cell_type": "markdown",
   "metadata": {},
   "source": [
    "* In the first part of notebook, I used the imbalanced learn library to resample the LendingClub data, which was provided in the resources. The resampled data was used to build and evaluate logistic regression classifiers.\n",
    "\n",
    "* Four different algorithms were used in creating models. The first algorithm was oversampling the data using the Naive Random Oversampler; and the second was SMOTE algorithm. Naive Random Oversampler has an accuracy score of 0.667 while SMOTE has an accuracy score of 0.639.\n",
    "\n",
    "* The third algorithm was Undersampling by using Cluster Centroids model. It gives an accuracy score of 0.571\n",
    "\n",
    "* The last algorithm was SMOTEENN, which was used by combining both over- and under-sample. It gives an accuravy score of 0.537.\n",
    "\n",
    "* Out of all four models, the Naive Random Oversampler has the highest accuracy score (0.667); The Naive Random Oversampler model also has the best recall score of 0.67; and the Naive Random Oversampler has the best geometric mean score of 0.66."
   ]
  },
  {
   "cell_type": "markdown",
   "metadata": {},
   "source": [
    "# Ensemble"
   ]
  },
  {
   "cell_type": "markdown",
   "metadata": {},
   "source": [
    "* In the second part of the notebook, two different ensemble classifiers were used to predict loan risk: Balanced Random Forest Classifier and the Easy Ensemble Classifier.\n",
    "\n",
    "* The Balanced Radom Forest Classifier model and The Easy Ensemble model both have the same numbers: An accuracy score of 0.888, a recall score of 0.89, and a geo score of 0.77. So both performed the same.\n"
   ]
  },
  {
   "cell_type": "markdown",
   "metadata": {},
   "source": [
    "# The top three features according to the Balanced Random Forest model are : total_acc, initial_list_status and pub_rec."
   ]
  },
  {
   "cell_type": "code",
   "execution_count": null,
   "metadata": {},
   "outputs": [],
   "source": []
  }
 ],
 "metadata": {
  "kernelspec": {
   "display_name": "pyvizenv",
   "language": "python",
   "name": "pyvizenv"
  },
  "language_info": {
   "codemirror_mode": {
    "name": "ipython",
    "version": 3
   },
   "file_extension": ".py",
   "mimetype": "text/x-python",
   "name": "python",
   "nbconvert_exporter": "python",
   "pygments_lexer": "ipython3",
   "version": "3.7.9"
  }
 },
 "nbformat": 4,
 "nbformat_minor": 4
}
